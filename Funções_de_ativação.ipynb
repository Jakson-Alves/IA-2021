{
  "nbformat": 4,
  "nbformat_minor": 0,
  "metadata": {
    "colab": {
      "name": "Funções_de_ativação.ipynb",
      "provenance": [],
      "collapsed_sections": [],
      "authorship_tag": "ABX9TyPTuNXHsyoYIazfiOHZ7lR+",
      "include_colab_link": true
    },
    "kernelspec": {
      "name": "python3",
      "display_name": "Python 3"
    },
    "language_info": {
      "name": "python"
    }
  },
  "cells": [
    {
      "cell_type": "markdown",
      "metadata": {
        "id": "view-in-github",
        "colab_type": "text"
      },
      "source": [
        "<a href=\"https://colab.research.google.com/github/Jakson-Alves/IA-2021/blob/main/Fun%C3%A7%C3%B5es_de_ativa%C3%A7%C3%A3o.ipynb\" target=\"_parent\"><img src=\"https://colab.research.google.com/assets/colab-badge.svg\" alt=\"Open In Colab\"/></a>"
      ]
    },
    {
      "cell_type": "code",
      "metadata": {
        "id": "NfN_Zov_BMIV"
      },
      "source": [
        "import numpy as np"
      ],
      "execution_count": null,
      "outputs": []
    },
    {
      "cell_type": "code",
      "metadata": {
        "id": "6e9H-M5V9vN6"
      },
      "source": [
        "def funcaoLinear(soma):\n",
        "  return soma\n",
        "\n",
        "teste = funcaoLinear(5)\n",
        "print(teste)\n"
      ],
      "execution_count": null,
      "outputs": []
    },
    {
      "cell_type": "code",
      "metadata": {
        "id": "YvRgO2NFBJQB"
      },
      "source": [
        "def stepFunction(soma):\n",
        "  if soma > 1:\n",
        "    return 1\n",
        "  else:\n",
        "    return 0\n",
        "\n",
        "teste = stepFunction(2)\n",
        "print(teste)"
      ],
      "execution_count": null,
      "outputs": []
    },
    {
      "cell_type": "code",
      "metadata": {
        "id": "OVpRGrvGAvHt"
      },
      "source": [
        "def sigmoidFunction(soma):\n",
        "  return 1 / (1 + np.exp(-soma))\n",
        "\n",
        "teste = sigmoidFunction(2)\n",
        "print(teste)"
      ],
      "execution_count": null,
      "outputs": []
    },
    {
      "cell_type": "code",
      "metadata": {
        "id": "nKIVlHxsBZLj"
      },
      "source": [
        "def tanhFunction(soma):\n",
        "  return np.exp(soma) - np.exp(soma) / np.exp(soma) + np.exp(soma) \n",
        "\n",
        "teste = tanhFunction(-50)\n",
        "print(teste)"
      ],
      "execution_count": null,
      "outputs": []
    },
    {
      "cell_type": "code",
      "metadata": {
        "id": "FtWAAt-yDaaA"
      },
      "source": [
        "def reluFunction(soma):\n",
        "  if soma >= 0:\n",
        "    return soma\n",
        "  else:\n",
        "    return 0\n",
        "\n",
        "teste = reluFunction(50)\n",
        "print(teste)"
      ],
      "execution_count": null,
      "outputs": []
    },
    {
      "cell_type": "code",
      "metadata": {
        "id": "4z-7WP2RE8vs"
      },
      "source": [
        "def softmaxFunction(soma):\n",
        "  resultado = np.exp(soma)\n",
        "  return resultado / resultado.sum()\n",
        "\n",
        "teste = softmaxFunction([0.91, 3, 0.3, 4])\n",
        "print(teste)"
      ],
      "execution_count": null,
      "outputs": []
    }
  ]
}