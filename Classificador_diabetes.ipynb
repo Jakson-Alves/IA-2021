{
  "nbformat": 4,
  "nbformat_minor": 0,
  "metadata": {
    "colab": {
      "name": "Trabalho_diabetes.ipynb",
      "provenance": [],
      "collapsed_sections": [],
      "authorship_tag": "ABX9TyN3IBhurTCECoNbq9EfTWYO",
      "include_colab_link": true
    },
    "kernelspec": {
      "name": "python3",
      "display_name": "Python 3"
    },
    "language_info": {
      "name": "python"
    }
  },
  "cells": [
    {
      "cell_type": "markdown",
      "metadata": {
        "id": "view-in-github",
        "colab_type": "text"
      },
      "source": [
        "<a href=\"https://colab.research.google.com/github/Jakson-Alves/IA-2021/blob/main/Classificador_diabetes.ipynb\" target=\"_parent\"><img src=\"https://colab.research.google.com/assets/colab-badge.svg\" alt=\"Open In Colab\"/></a>"
      ]
    },
    {
      "cell_type": "code",
      "metadata": {
        "id": "QwqX3PrAN4mv"
      },
      "source": [
        "import pandas as pd\n",
        "# Vamos criar uma rede neural sequencial de multiplas camadas\n",
        "from keras.models import Sequential \n",
        "# Conceito de fully conected, um reuronio conectado a todos outros\n",
        "from keras.layers import Dense, Dropout\n",
        "from sklearn.model_selection import train_test_split\n",
        "from keras.utils import np_utils\n",
        "from sklearn.preprocessing import LabelEncoder"
      ],
      "execution_count": 1,
      "outputs": []
    },
    {
      "cell_type": "code",
      "metadata": {
        "id": "dz63Yz-VMuEP"
      },
      "source": [
        "base = pd.read_csv('diabetes_data_upload_convertido.csv')\n",
        "previsor = base.iloc[:, 2:16].values\n",
        "classe = base.iloc[:, 16].values\n",
        "\n",
        "labelencoder = LabelEncoder()\n",
        "classe = labelencoder.fit_transform(classe)\n",
        "classe_dummy = np_utils.to_categorical(classe)"
      ],
      "execution_count": 8,
      "outputs": []
    },
    {
      "cell_type": "code",
      "metadata": {
        "id": "SqCf6jPrPWm-"
      },
      "source": [
        "\n",
        "previsor_treinamento, previsor_test, classe_treinamento, classe_test = train_test_split(previsor, classe_dummy, test_size=0.25)\n",
        "\n",
        "classificador = Sequential() # Instancia a classe / inicializa a rede neural\n",
        "# units = quantidade de neuronios na primera camada oculta. Quantidade de variaveis + quantidade de classes / 2\n",
        "# activation = Funcao de ativacao escolhida por vc\n",
        "# input_dim = quantidade de variaveis no problema\n",
        "classificador.add(Dense(units=8, activation='relu', input_dim=14))\n",
        "classificador.add(Dropout(0.2))\n",
        "classificador.add(Dense(units=8, activation='relu')) # Segunda camada oculta\n",
        "classificador.add(Dropout(0.2))\n",
        "# Saída da rede, ativado pela Softmax, pois temos multiplas classes\n",
        "# Units = 3 pois temos 3 classes\n",
        "classificador.add(Dense(units=2, activation='sigmoid')) \n",
        "# optimizer = Utiliza a funcao ADAM, para calcular o melhor valor na descida do gradiente\n",
        "# loss = Calcula a perda entre as classes\n",
        "# metrics = Define a métrica utilizada para calcular a assertividade\n",
        "classificador.compile(optimizer='adam', loss='categorical_crossentropy', metrics=['categorical_accuracy'])\n",
        "# vamos mandar treinar agora!\n",
        "\n",
        "classificador.fit(previsor_treinamento, classe_treinamento, batch_size = 10, epochs = 200)\n"
      ],
      "execution_count": null,
      "outputs": []
    },
    {
      "cell_type": "code",
      "metadata": {
        "id": "IMQ63bKDdjd0"
      },
      "source": [
        "resultado = classificador.evaluate(previsor_test, classe_test)\n",
        "print(resultado)"
      ],
      "execution_count": null,
      "outputs": []
    },
    {
      "cell_type": "code",
      "metadata": {
        "id": "MQwjcBfwdnOI"
      },
      "source": [
        "# Salvar modelo para posterior inferência:\n",
        "print('#'*10+' Salvando pesos do modelo... '+'#'*10)\n",
        "classification_json = classificador.to_json()\n",
        "# Aqui voce salva um json com a arquitetura da rede e metadados\n",
        "with open('classify.json', 'w') as json_file:\n",
        "    json_file.write(classification_json)\n",
        "    print('Weight salvo...')\n",
        "json_file.close()\n",
        "classificador.save_weights('model.h5')"
      ],
      "execution_count": null,
      "outputs": []
    },
    {
      "cell_type": "code",
      "metadata": {
        "id": "FK1W5_Qtdp41"
      },
      "source": [
        "from sklearn.metrics import confusion_matrix\n",
        "\n",
        "# Matriz de confusão como métrica para avaliar a assertividade das classes\n",
        "previsoes = classificador.predict(previsor_test)\n",
        "print(previsoes)\n",
        "previsoes = (previsoes > 0.5)\n"
      ],
      "execution_count": null,
      "outputs": []
    },
    {
      "cell_type": "code",
      "metadata": {
        "id": "N3bwU1-6EnOQ"
      },
      "source": [
        "# Carregando modelo para inferência\n",
        "arquivo = open('classify.json', 'r')\n",
        "estrutura_rede = arquivo.read()\n",
        "arquivo.close()\n",
        "\n",
        "base = pd.read_csv('teste_diabetes.csv')\n",
        "previsor = base.iloc[:, 2:16].values\n",
        "classe = base.iloc[:, 16].values\n",
        "\n",
        "labelencoder = LabelEncoder()\n",
        "classe = labelencoder.fit_transform(classe)\n",
        "classe_dummy = np_utils.to_categorical(classe)\n",
        "\n",
        "from keras.models import model_from_json\n",
        "classificador = model_from_json(estrutura_rede)\n",
        "# Carrega os pesos salvos no treinamento\n",
        "classificador.load_weights('model.h5')\n",
        "\n",
        "# Preve o resultado dos dados de teste do split\n",
        "previsao = classificador.predict(previsor)\n",
        "previsao = (previsao > 0.5)\n",
        "#   Neg   1 0 \n",
        "#   Posi  0 1 \n",
        "print(previsor_test[0])\n",
        "print(classe_test[0])\n",
        "\n",
        "for element in previsao:\n",
        "  if element[1]:\n",
        "    print(element, \" -> positivo\")\n",
        "  else:\n",
        "   print(element, \" -> Negativo\")\n",
        "    \n",
        "\n"
      ],
      "execution_count": null,
      "outputs": []
    }
  ]
}