{
  "nbformat": 4,
  "nbformat_minor": 0,
  "metadata": {
    "colab": {
      "name": "Meu_Classificador_De_Texto.ipynb",
      "provenance": [],
      "collapsed_sections": [],
      "include_colab_link": true
    },
    "kernelspec": {
      "name": "python3",
      "display_name": "Python 3"
    },
    "language_info": {
      "name": "python"
    }
  },
  "cells": [
    {
      "cell_type": "markdown",
      "metadata": {
        "id": "view-in-github",
        "colab_type": "text"
      },
      "source": [
        "<a href=\"https://colab.research.google.com/github/Jakson-Alves/IA-2021/blob/main/Classificador_De_Texto.ipynb\" target=\"_parent\"><img src=\"https://colab.research.google.com/assets/colab-badge.svg\" alt=\"Open In Colab\"/></a>"
      ]
    },
    {
      "cell_type": "code",
      "metadata": {
        "id": "pW3mFpyyiL1i"
      },
      "source": [
        "#Download dataset: https://www.kaggle.com/luisfredgs/imdb-ptbr"
      ],
      "execution_count": null,
      "outputs": []
    },
    {
      "cell_type": "code",
      "metadata": {
        "id": "8sDdnUm-kSC8"
      },
      "source": [
        "!pip install numpy scikit-learn pandas nltk"
      ],
      "execution_count": null,
      "outputs": []
    },
    {
      "cell_type": "code",
      "metadata": {
        "id": "SUIqZwWMkpai"
      },
      "source": [
        "!wget https://emannuell.com.br/materdei/archive.zip\n",
        "!unzip archive.zip -d ."
      ],
      "execution_count": null,
      "outputs": []
    },
    {
      "cell_type": "code",
      "metadata": {
        "id": "F_rEv5p6ku6g"
      },
      "source": [
        "import pandas as pd"
      ],
      "execution_count": null,
      "outputs": []
    },
    {
      "cell_type": "code",
      "metadata": {
        "id": "SApTIdOlkx5U"
      },
      "source": [
        "dataset = pd.read_csv('imdb-reviews-pt-br.csv')"
      ],
      "execution_count": null,
      "outputs": []
    },
    {
      "cell_type": "code",
      "metadata": {
        "id": "IlDEXAvFlLOE"
      },
      "source": [
        "print(dataset['text_pt'][49454])\n",
        "print(dataset['sentiment'][49454])"
      ],
      "execution_count": null,
      "outputs": []
    },
    {
      "cell_type": "code",
      "metadata": {
        "id": "3vkk1XHBmQhG"
      },
      "source": [
        "dataset = dataset[['text_pt', 'sentiment']]\n",
        "X = dataset['text_pt']\n",
        "y = dataset['sentiment']\n",
        "X.shape, y.shape"
      ],
      "execution_count": null,
      "outputs": []
    },
    {
      "cell_type": "code",
      "metadata": {
        "id": "onEtKj2OpS9_"
      },
      "source": [
        "from sklearn.feature_extraction.text import CountVectorizer\n",
        "import nltk\n",
        "\n",
        "nltk.download('punkt')\n",
        "# Criamos um vetor, com uma representação única para cada palavra. Estamos \"tokenizando\" as palavras de cada uma das sentenças de todo dataset. \n",
        "# E eliminando as palavras que aparecem menos de uma vez (min_df = 2)\n",
        "vec = CountVectorizer(min_df = 2, tokenizer = nltk.word_tokenize)\n",
        "tokens_data = vec.fit_transform(X)\n"
      ],
      "execution_count": null,
      "outputs": []
    },
    {
      "cell_type": "code",
      "metadata": {
        "id": "_Lp5_XPnri-0"
      },
      "source": [
        "a = \"\"\n",
        "for i in \"Filmes fraco sem talento\".split(\" \"):\n",
        "  print(i)\n",
        "  token = vec.vocabulary_.get(i.lower())\n",
        "  print(token)"
      ],
      "execution_count": null,
      "outputs": []
    },
    {
      "cell_type": "markdown",
      "metadata": {
        "id": "p70-SCSMuaLc"
      },
      "source": [
        "**Term Frequency - Frequência do termo**: Mede a frequência de uma palavra em um documento.\n",
        "\n",
        "**Document Frequency** - Freqüência do Documento: Isso mede a importância do documento em todo o conjunto do corpus. DF é o número de documentos em que a palavra está presente\n",
        "\n",
        "**Freqüência Inversa** do Documento IDF é o inverso da frequência do documento que mede a informatividade do termo t. Quando calculamos o IDF, ele será muito baixo para as palavras de maior ocorrência, como palavras irrelevantes (porque palavras irrelevantes como \"é\" estão presentes em quase todos os documentos e N / df dará um valor muito baixo a essa palavra ) Isso finalmente nos dá o que queremos, um peso relativo."
      ]
    },
    {
      "cell_type": "code",
      "metadata": {
        "id": "r5qkRHMStfBt"
      },
      "source": [
        "from sklearn.feature_extraction.text import TfidfTransformer\n",
        "\n",
        "tfidf = TfidfTransformer()\n",
        "tokens_tfidf = tfidf.fit_transform(tokens_data)"
      ],
      "execution_count": null,
      "outputs": []
    },
    {
      "cell_type": "code",
      "metadata": {
        "id": "wkeopqQPvdZ-"
      },
      "source": [
        "print(tokens_tfidf)"
      ],
      "execution_count": null,
      "outputs": []
    },
    {
      "cell_type": "markdown",
      "metadata": {
        "id": "1NkO6Kq6xN59"
      },
      "source": [
        "O classificador multinomial Naive Bayes é adequado para classificação com recursos discretos (por exemplo, contagens de palavras para classificação de texto). A distribuição multinomial normalmente requer contagens de recursos inteiros. No entanto, na prática, contagens fracionárias como tf-idf também podem funcionar."
      ]
    },
    {
      "cell_type": "code",
      "metadata": {
        "id": "OQbr3D02wi4U"
      },
      "source": [
        "from sklearn.model_selection import train_test_split\n",
        "from sklearn.naive_bayes import MultinomialNB\n",
        "\n",
        "X_train, X_test, y_train, y_test = train_test_split(tokens_tfidf, y, test_size=0.2, shuffle = True)\n",
        "\n",
        "print(X_train.shape)\n",
        "print(X_test.shape)\n",
        "\n",
        "model = MultinomialNB()\n",
        "model.fit(X_train, y_train)"
      ],
      "execution_count": null,
      "outputs": []
    },
    {
      "cell_type": "markdown",
      "metadata": {
        "id": "a3OfsmrK1YWn"
      },
      "source": [
        "Exercício 3 - vale 2 pontos\n",
        "Classificação de texto\n",
        "\n",
        "Vocês devem criar uma lista com sentenças de avaliacao de filmes, ao menos 5. Exemplo:\n",
        "`minhasAvaliacoes = ['Achei o filme muito ruim, nao gostei fraco', 'Otimo filme']`\n",
        "\n",
        "- Verificar se as sentenças criadas são avaliacoes de filmes positivas ou negativas\n",
        "\n",
        "Entrega é:\n",
        "* Notebook com toda implementação\n",
        "* Deve ser capaz de classificar um texto novo\n",
        "* Deve ter as funcoes estatísticas e de transformação do texto implementadas\n",
        "* 1 ponto extra - Quem implementar outro modelo de classificação de texto p/ mesmo dataset"
      ]
    },
    {
      "cell_type": "code",
      "metadata": {
        "id": "j_q_Jjigyy4L",
        "colab": {
          "base_uri": "https://localhost:8080/"
        },
        "outputId": "35727bf1-94c8-487b-9988-86ee4bb2994c"
      },
      "source": [
        "#trabalho\n",
        "\n",
        "minhasAvaliacoes = ['Achei o filme muito fraco', 'sem talento', 'Otimo filme', 'Parece matrix', 'O filme seria bom se não tivesse sido lançado', 'Atendeu minhas espectativas']\n",
        "\n",
        "avaTransfor = vec.transform(minhasAvaliacoes)\n",
        "dadoTransformado = tfidf.fit_transform(avaTransfor)\n",
        "# Aqui vemos o modelo que treinamos em ação! Você passa um conjunto de dados para teste, e ele retorna a classificação\n",
        "model.predict(dadoTransformado)"
      ],
      "execution_count": null,
      "outputs": [
        {
          "output_type": "execute_result",
          "data": {
            "text/plain": [
              "array(['neg', 'neg', 'pos', 'neg', 'neg', 'pos'], dtype='<U3')"
            ]
          },
          "metadata": {},
          "execution_count": 68
        }
      ]
    }
  ]
}