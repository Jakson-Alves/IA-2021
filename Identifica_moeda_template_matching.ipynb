{
  "nbformat": 4,
  "nbformat_minor": 0,
  "metadata": {
    "colab": {
      "name": "Identifica_moeda_template_matching.ipynb",
      "provenance": [],
      "authorship_tag": "ABX9TyPhYQYMmaueKKAq4lREynTo",
      "include_colab_link": true
    },
    "kernelspec": {
      "name": "python3",
      "display_name": "Python 3"
    },
    "language_info": {
      "name": "python"
    }
  },
  "cells": [
    {
      "cell_type": "markdown",
      "metadata": {
        "id": "view-in-github",
        "colab_type": "text"
      },
      "source": [
        "<a href=\"https://colab.research.google.com/github/Jakson-Alves/IA-2021/blob/main/Identifica_moeda_template_matching.ipynb\" target=\"_parent\"><img src=\"https://colab.research.google.com/assets/colab-badge.svg\" alt=\"Open In Colab\"/></a>"
      ]
    },
    {
      "cell_type": "code",
      "metadata": {
        "id": "AgpJRNfUqQgP"
      },
      "source": [
        "import cv2\n",
        "from google.colab.patches import cv2_imshow\n",
        "import numpy as np"
      ],
      "execution_count": 1,
      "outputs": []
    },
    {
      "cell_type": "code",
      "metadata": {
        "colab": {
          "base_uri": "https://localhost:8080/",
          "height": 257
        },
        "id": "XUo1J2a5qRlv",
        "outputId": "fc36bf4f-742f-40dc-d848-9cd62356578f"
      },
      "source": [
        "#Carrega a imagem do mario \n",
        "img_rgb = cv2.imread('mario.png')\n",
        "img_gray = cv2.cvtColor(img_rgb, cv2.COLOR_BGR2GRAY) #altera para escala de cinza\n",
        "\n",
        "#carrega o template, 0 abre a imagem em escala de cinza sem precisar de conversão\n",
        "template = cv2.imread('coin.png',0)\n",
        "\n",
        "#mostra o tamanho do template (w altura, h largura)\n",
        "w, h = template.shape\n",
        "# print(w, h)\n",
        "\n",
        "# Res cria uma matriz a partir do tamplate\n",
        "# matchtemplate faz uma busca do template na imagem, o cv2.TM_CC... é a forma como ele vai fazer a busca\n",
        "res = cv2.matchTemplate(img_gray,template,cv2.TM_CCOEFF_NORMED)\n",
        "\n",
        "# tamanho do limiar (semelhança) (a partir desse valor tem o objeto que busco)\n",
        "threshold = 0.80\n",
        "\n",
        "# Se tiver o threshold dentro de res\n",
        "# somente valores maiores que o threshold\n",
        "loc = np.where( res >= threshold)\n",
        "\n",
        "#For nas localizações para fazer retangulo ao redor\n",
        "#[::-1] inverte a localização\n",
        "for pt in zip(*loc[::-1]):\n",
        "    #primeiro imagem/ localização/\n",
        "    cv2.rectangle(img_rgb, pt, (pt[0] + w, pt[1] + h), (0,0,255), 2)\n",
        "\n",
        "#Mostra as moedas circularam\n",
        "cv2_imshow(img_rgb)"
      ],
      "execution_count": 2,
      "outputs": [
        {
          "output_type": "display_data",
          "data": {
            "image/png": "[encoded data removed]",
            "text/plain": [
              "<PIL.Image.Image image mode=RGB size=256x240 at 0x7F0A47E3DA50>"
            ]
          },
          "metadata": {}
        }
      ]
    }
  ]
}